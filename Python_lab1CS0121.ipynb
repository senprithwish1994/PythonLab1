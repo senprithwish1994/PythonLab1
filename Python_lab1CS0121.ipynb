{
  "nbformat": 4,
  "nbformat_minor": 0,
  "metadata": {
    "colab": {
      "name": "Python_lab1CS0121.ipynb",
      "provenance": [],
      "collapsed_sections": [],
      "toc_visible": true
    },
    "kernelspec": {
      "name": "python3",
      "display_name": "Python 3"
    }
  },
  "cells": [
    {
      "cell_type": "markdown",
      "metadata": {
        "id": "8gPYrx9yy2Br"
      },
      "source": [
        "# Python Programming basics"
      ]
    },
    {
      "cell_type": "markdown",
      "metadata": {
        "id": "CLg2SNP6y2Bt"
      },
      "source": [
        "## Types and Functions"
      ]
    },
    {
      "cell_type": "markdown",
      "metadata": {
        "id": "hYjzzn-jy2B2"
      },
      "source": [
        "Extend the function to take an optional 3rd argument.\n",
        "\n",
        "\n",
        "\n",
        "\n"
      ]
    },
    {
      "cell_type": "markdown",
      "metadata": {
        "id": "WGjNcZc6_zH9"
      },
      "source": [
        "Extend the function to take another optional flag parameter and add only if it is true\n",
        "\n",
        "\n",
        "\n",
        "\n"
      ]
    },
    {
      "cell_type": "code",
      "metadata": {
        "id": "rVHXI5IhfV6w"
      },
      "source": [
        "def add(x, y):\n",
        "    return \n",
        "\n",
        "def add(x, y, z):\n",
        "\n",
        "def add(x, y, z, flag=None):\n",
        "    #ADD YOUR CODE HERE\n",
        "\n",
        "\n",
        "print(add())"
      ],
      "execution_count": null,
      "outputs": []
    },
    {
      "cell_type": "markdown",
      "metadata": {
        "id": "aHctdefmy2B5"
      },
      "source": [
        "Assign a function to a variable 'a' and print the output"
      ]
    },
    {
      "cell_type": "code",
      "metadata": {
        "id": "-SBXag5fhA-U"
      },
      "source": [
        "a = add()"
      ],
      "execution_count": null,
      "outputs": []
    },
    {
      "cell_type": "markdown",
      "metadata": {
        "id": "3OIAwYghy2B8"
      },
      "source": [
        "## Iterations in python"
      ]
    },
    {
      "cell_type": "markdown",
      "metadata": {
        "id": "4_CkvyuSy2B9"
      },
      "source": [
        "Create a list of 5 elements"
      ]
    },
    {
      "cell_type": "markdown",
      "metadata": {
        "id": "867_MmDyy2B9"
      },
      "source": [
        "Square every item in the list using a loop inside the array index"
      ]
    },
    {
      "cell_type": "markdown",
      "metadata": {
        "id": "vkO3X8kHy2B-"
      },
      "source": [
        "Show how to use a iterator. First, use enumerate to create a new tuple from above list"
      ]
    },
    {
      "cell_type": "code",
      "metadata": {
        "id": "bY-Bew-YlZ5Y"
      },
      "source": [
        "#use of a iterator\n",
        "#iterator- returns numbers that starts with 25 and each and every time it is passed it gets squared.\n",
        "\n",
        "class MyInit:    #for initialization\n",
        "  def __iter__(self):\n",
        "    return self\n",
        "\n",
        "  def __next__(self):  # does the operation\n",
        "    x = self.a\n",
        "    return x\n",
        "\n",
        "obj1 = MyInit()\n",
        "itr = iter(obj1)\n",
        "\n",
        "print(next(itr))\n"
      ],
      "execution_count": null,
      "outputs": []
    },
    {
      "cell_type": "code",
      "metadata": {
        "id": "A_-Qy2Iwo4rk"
      },
      "source": [
        "#First, use enumerate to create a new tuple from above list\n",
        "listSequence = [\"eat\",\"sleep\",\"repeat\"] \n",
        "\n",
        "tup=()  \n",
        "#at first Enumerating thro' the list and then iterating thro' the loop with for loop.\n",
        "\n",
        "print(tup)\n"
      ],
      "execution_count": null,
      "outputs": []
    },
    {
      "cell_type": "markdown",
      "metadata": {
        "id": "sBaeDehEy2B-"
      },
      "source": [
        "Now use a zip iterator to do the same."
      ]
    },
    {
      "cell_type": "markdown",
      "metadata": {
        "id": "UNkFsHgiy2B-"
      },
      "source": [
        "Now state the differences between a zip and enumerate iterator."
      ]
    },
    {
      "cell_type": "markdown",
      "metadata": {
        "id": "B_QQW_dgvM9_"
      },
      "source": [
        "Python`enumerate()` and `zip()` are built-in functions that can be used on sequences.\n",
        "\n",
        "`enumerate()` function can be use to iterate over indices and items of a list.\n",
        "\n",
        "`zip()` function make an iterator that aggregates elements from each of the iterables. In simple words it can be used to iterate over two or more lists in parallel.\n",
        "\n",
        "\n",
        "\n",
        "\n",
        "\n",
        "\n",
        "\n"
      ]
    },
    {
      "cell_type": "markdown",
      "metadata": {
        "id": "gUIwNR9_y2B_"
      },
      "source": [
        "## Strings in Python"
      ]
    },
    {
      "cell_type": "markdown",
      "metadata": {
        "id": "8wA7kbxmy2B_"
      },
      "source": [
        "Open the file poem.txt and print lenght of each line."
      ]
    },
    {
      "cell_type": "markdown",
      "metadata": {
        "id": "hzbK_Czvy2CA"
      },
      "source": [
        "Find sum of each line, mean, median and standard deviation of all lines in the file."
      ]
    },
    {
      "cell_type": "markdown",
      "metadata": {
        "id": "3V_JvJvFy2CB"
      },
      "source": [
        "Count the number of words in the file"
      ]
    },
    {
      "cell_type": "markdown",
      "metadata": {
        "id": "7nxHbZWmy2CB"
      },
      "source": [
        "Print the first 1000 characters from poem.txt."
      ]
    },
    {
      "cell_type": "markdown",
      "metadata": {
        "id": "99VsHGqny2CC"
      },
      "source": [
        "Print the 3rd to 5th words from the file."
      ]
    },
    {
      "cell_type": "code",
      "metadata": {
        "id": "Q90D5ZBPFQHB"
      },
      "source": [
        "with open('poem.txt','r') as file: \n",
        "   \n",
        "    # reading each line     \n",
        "    for line in file: "
      ],
      "execution_count": null,
      "outputs": []
    },
    {
      "cell_type": "markdown",
      "metadata": {
        "id": "0Hnpmu0_y2CC"
      },
      "source": [
        "Get every third word between the second and the 15th words from poem.txt.\n"
      ]
    },
    {
      "cell_type": "markdown",
      "metadata": {
        "id": "TegFp9QKy2CD"
      },
      "source": [
        "Print the last word from the file and change the second last characted in the string to 'g'. "
      ]
    },
    {
      "cell_type": "markdown",
      "metadata": {
        "id": "sUt3Lqeoy2CD"
      },
      "source": [
        "State if the above operation completed successfully. State reasons"
      ]
    },
    {
      "cell_type": "markdown",
      "metadata": {
        "id": "jZ9nTQTPy2CD"
      },
      "source": [
        "# Find types of Python variables and functions"
      ]
    },
    {
      "cell_type": "markdown",
      "metadata": {
        "id": "4MdBFHNUy2CG"
      },
      "source": [
        "Find what are the types of the following and state if they are mutable of immutable"
      ]
    },
    {
      "cell_type": "code",
      "metadata": {
        "id": "OVWI69foy2CE"
      },
      "source": [
        "None\n",
        "1\n",
        "1.0\n",
        "add\n",
        "(1,'a',3,'b')\n",
        "[1,'a',3,'b']"
      ],
      "execution_count": null,
      "outputs": []
    },
    {
      "cell_type": "markdown",
      "metadata": {
        "id": "nFl2jaKjy2CJ"
      },
      "source": [
        "Append new elements at the end of a list"
      ]
    },
    {
      "cell_type": "markdown",
      "metadata": {
        "id": "KlCeSN9jy2CJ"
      },
      "source": [
        "Loop through each element of the list"
      ]
    },
    {
      "cell_type": "markdown",
      "metadata": {
        "id": "dPiMENDty2CJ"
      },
      "source": [
        "Use a indexing operator"
      ]
    },
    {
      "cell_type": "code",
      "metadata": {
        "id": "RNWJ03ODOsxt"
      },
      "source": [
        "#indexing operator\n",
        "str_indexing = \"\"\n",
        "print(lastchar)\n"
      ],
      "execution_count": null,
      "outputs": []
    },
    {
      "cell_type": "markdown",
      "metadata": {
        "id": "GwE4mMdhy2CK"
      },
      "source": [
        "Concatenate two lists"
      ]
    },
    {
      "cell_type": "markdown",
      "metadata": {
        "id": "i_zLyIo8y2CL"
      },
      "source": [
        "Use * to repeat lists"
      ]
    },
    {
      "cell_type": "markdown",
      "metadata": {
        "id": "TpjprH_ny2CL"
      },
      "source": [
        "Use the in operator to check if something is in a list"
      ]
    },
    {
      "cell_type": "markdown",
      "metadata": {
        "id": "mntnTokRy2CM"
      },
      "source": [
        "Initialize a string and slice the first 1, 2 and 3 characters. Then from 3rd to end."
      ]
    },
    {
      "cell_type": "markdown",
      "metadata": {
        "id": "LesTR0zny2CM"
      },
      "source": [
        "Take a first name and a last name and then concatenate the last name with 3 times the first name and show result."
      ]
    },
    {
      "cell_type": "markdown",
      "metadata": {
        "id": "zMGaGnfqy2CN"
      },
      "source": [
        "Take a string with four words. Use the split function to display the second and the last words"
      ]
    },
    {
      "cell_type": "markdown",
      "metadata": {
        "id": "MBMKwMEvy2CN"
      },
      "source": [
        "Concatenate a number with a string. Update following:"
      ]
    },
    {
      "cell_type": "markdown",
      "metadata": {
        "id": "a_TA6ZKty2CQ"
      },
      "source": [
        "## Dictionaries associated with lists"
      ]
    },
    {
      "cell_type": "markdown",
      "metadata": {
        "id": "65CVIPRsy2CQ"
      },
      "source": [
        "Create a list of keys and values"
      ]
    },
    {
      "cell_type": "code",
      "metadata": {
        "id": "OjE1qRasy2CU"
      },
      "source": [
        "x['Prithwish'] = None"
      ],
      "execution_count": null,
      "outputs": []
    },
    {
      "cell_type": "markdown",
      "metadata": {
        "id": "uy7RhY0Ay2CX"
      },
      "source": [
        "Iterate over all the keys"
      ]
    },
    {
      "cell_type": "markdown",
      "metadata": {
        "id": "AkVjf-WCy2CX"
      },
      "source": [
        "Iterate over all the values"
      ]
    },
    {
      "cell_type": "markdown",
      "metadata": {
        "id": "HQUMO11zy2CX"
      },
      "source": [
        "Iterate over all the key-value pairs in the list"
      ]
    },
    {
      "cell_type": "markdown",
      "metadata": {
        "id": "7t-tLa9Ny2CY"
      },
      "source": [
        "Unpack the following sequence into different variables"
      ]
    },
    {
      "cell_type": "code",
      "metadata": {
        "id": "wN1raIzoy2CY"
      },
      "source": [
        "('Prithwish','IIITG','prithwish.sen@iiitg','CSE')\n"
      ],
      "execution_count": null,
      "outputs": []
    },
    {
      "cell_type": "markdown",
      "metadata": {
        "id": "m4ja7geoy2Ca"
      },
      "source": [
        "Use Python's in-built methods for string formatting"
      ]
    },
    {
      "cell_type": "code",
      "metadata": {
        "id": "slhscP_fy2Cb"
      },
      "source": [
        "sales_record = {\n",
        "'price': 3.24,\n",
        "'num_items': 4,\n",
        "'person': 'Prithwish'}\n",
        "\n",
        "sales_statement = '{} got {} item(s) at a cost of {} each for a total of {}'\n"
      ],
      "execution_count": null,
      "outputs": []
    },
    {
      "cell_type": "markdown",
      "metadata": {
        "id": "LoT7hOzTy2Cd"
      },
      "source": [
        "Take a list of 10 elements and convert into json using  json library. Demonstrate use of loads and dumps"
      ]
    },
    {
      "cell_type": "markdown",
      "metadata": {
        "id": "nMkQMWzMy2Cd"
      },
      "source": [
        "# Python objects and functions"
      ]
    },
    {
      "cell_type": "markdown",
      "metadata": {
        "id": "QCp0jOsoy2Cd"
      },
      "source": [
        "Take the following code:"
      ]
    },
    {
      "cell_type": "code",
      "metadata": {
        "id": "E-8EYUk5y2Ce"
      },
      "source": [
        "class students:\n",
        "    dept = \"Department of CSE\"\n",
        "    def assign_name(self, n):\n",
        "        self.name = n\n",
        "    def assign_location(self, l):\n",
        "        self.location = l"
      ],
      "execution_count": null,
      "outputs": []
    },
    {
      "cell_type": "markdown",
      "metadata": {
        "id": "rTVHPd9Yy2Cg"
      },
      "source": [
        "Create a object of the class above. Set name and location of your choice."
      ]
    },
    {
      "cell_type": "markdown",
      "metadata": {
        "id": "qc0eLaAxy2Cg"
      },
      "source": [
        "Format accordingly and print in a manner so we see something like : \"Dip Sankar lives in Guwahati, Assam, India and works in the Department of CSE\". The name and location should be of your choice. Use 1 print only"
      ]
    },
    {
      "cell_type": "code",
      "metadata": {
        "id": "R-8CrVC0fCAG"
      },
      "source": [
        "sentence = '{} lives in {} and is a student in the {}'\n",
        "print(sentence)"
      ],
      "execution_count": null,
      "outputs": []
    },
    {
      "cell_type": "markdown",
      "metadata": {
        "id": "doTTevlfy2Cg"
      },
      "source": [
        "Create two lists of 5 elements each. Map the min function to the lists using map(). Print the minimum object."
      ]
    },
    {
      "cell_type": "markdown",
      "metadata": {
        "id": "BswqG15uy2Ch"
      },
      "source": [
        "Iterate through that object and print the elements."
      ]
    },
    {
      "cell_type": "markdown",
      "metadata": {
        "id": "wRSPLPv-y2Ch"
      },
      "source": [
        "# Working with CSV"
      ]
    },
    {
      "cell_type": "markdown",
      "metadata": {
        "id": "zEivdvdky2Ci"
      },
      "source": [
        "Let's import a file with fuel economy data"
      ]
    },
    {
      "cell_type": "code",
      "metadata": {
        "id": "yTgXXq8gy2Ci"
      },
      "source": [
        "import csv\n",
        "with open('mpg.csv') as csvfile:\n",
        "    \n",
        "    \n"
      ],
      "execution_count": null,
      "outputs": []
    },
    {
      "cell_type": "markdown",
      "metadata": {
        "id": "2jk34ecny2Ck"
      },
      "source": [
        "Find out how many items are there in the dictionary"
      ]
    },
    {
      "cell_type": "code",
      "metadata": {
        "id": "02Q5rU3QkK-p"
      },
      "source": [
        "for item in mpg[1].items():"
      ],
      "execution_count": null,
      "outputs": []
    },
    {
      "cell_type": "markdown",
      "metadata": {
        "id": "0a9wQEZty2Ck"
      },
      "source": [
        "Find the column names with keys"
      ]
    },
    {
      "cell_type": "markdown",
      "metadata": {
        "id": "H5I5ltFjy2Cl"
      },
      "source": [
        "Find the average cty fuel economy across all cars. All values in the dictionaries are strings."
      ]
    },
    {
      "cell_type": "markdown",
      "metadata": {
        "id": "hdUYyxAyy2Cl"
      },
      "source": [
        "Find the average hwy fuel economy across all cars"
      ]
    },
    {
      "cell_type": "markdown",
      "metadata": {
        "id": "tis50Ybjy2Cl"
      },
      "source": [
        "Use set to return the unique values for the number of cylinders the cars."
      ]
    },
    {
      "cell_type": "code",
      "metadata": {
        "id": "r4zvZqtvtDgx"
      },
      "source": [
        "cylinders = set(d['cyl'])"
      ],
      "execution_count": null,
      "outputs": []
    },
    {
      "cell_type": "markdown",
      "metadata": {
        "id": "v2m5FAT-y2Cm"
      },
      "source": [
        "Group the cars by number of cylinder, and finding the average cty mpg for each group."
      ]
    },
    {
      "cell_type": "code",
      "metadata": {
        "id": "crTKKVSny2Cm",
        "colab": {
          "base_uri": "https://localhost:8080/",
          "height": 90
        },
        "outputId": "2c98a32f-5916-4ca3-e058-f22261f97bfe"
      },
      "source": [
        "MpgByCyl = []\n",
        "\n",
        "for c in cylinders: # iterate over all the cylinder levels\n",
        "    summpg = \n",
        "    typecount = \n",
        "    for d in mpg: # iterate over all dictionaries\n",
        "        if d['cyl'] == c:      \n",
        "\n",
        "MpgByCyl.sort(key=lambda)\n",
        "MpgByCyl"
      ],
      "execution_count": null,
      "outputs": [
        {
          "output_type": "execute_result",
          "data": {
            "text/plain": [
              "[('4', 21.012345679012345),\n",
              " ('5', 20.5),\n",
              " ('6', 16.21518987341772),\n",
              " ('8', 12.571428571428571)]"
            ]
          },
          "metadata": {
            "tags": []
          },
          "execution_count": 9
        }
      ]
    },
    {
      "cell_type": "markdown",
      "metadata": {
        "id": "Nyd-Ggpdy2Cp"
      },
      "source": [
        "Return the unique values for the class types in our dataset using set."
      ]
    },
    {
      "cell_type": "code",
      "metadata": {
        "id": "omaBZYxgy2Cp"
      },
      "source": [
        "vehicleclass = set(d['class'] for d in mpg)"
      ],
      "execution_count": null,
      "outputs": []
    },
    {
      "cell_type": "markdown",
      "metadata": {
        "id": "-cZVEpkQy2Cs"
      },
      "source": [
        "Find average miles per gallon in the highway for each class of vehicles"
      ]
    },
    {
      "cell_type": "code",
      "metadata": {
        "id": "RNBwqWwUy2Cs"
      },
      "source": [
        "MileageByClass = []\n",
        "\n",
        "for t in : # iterate over all the vehicle classes\n",
        "    sumpg = 0\n",
        "    classCount = 0\n",
        "    for d in mpg: \n",
        "        if d['class'] == t:                 \n",
        "    MileageByClass.append((t, )) \n",
        "\n",
        "MileageByClass.sort(key=lambda x: x[1])\n",
        "\n",
        "        "
      ],
      "execution_count": null,
      "outputs": []
    }
  ]
}